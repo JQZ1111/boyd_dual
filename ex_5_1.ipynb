{
 "cells": [
  {
   "cell_type": "code",
   "execution_count": 2,
   "id": "aed7ce12-395c-4472-b4aa-4dac4a7c8a88",
   "metadata": {},
   "outputs": [],
   "source": [
    "import jax \n",
    "import jax.numpy as jnp\n",
    "import numpy as np\n",
    "import matplotlib.pyplot as plt\n",
    "import jaxopt"
   ]
  },
  {
   "cell_type": "code",
   "execution_count": 6,
   "id": "4feffec1-6e2a-40f7-b6b8-b2a7717c4402",
   "metadata": {},
   "outputs": [],
   "source": [
    "def f(multiplier):\n",
    "    x = 3*multiplier/(1+multiplier)\n",
    "    return -(x**2 + 1 + multiplier*(x**2 - 6*x + 8))"
   ]
  },
  {
   "cell_type": "code",
   "execution_count": 7,
   "id": "20f0a7e0-5dd9-4aa2-90df-6061c3e06a99",
   "metadata": {},
   "outputs": [
    {
     "name": "stdout",
     "output_type": "stream",
     "text": [
      "-4.5\n",
      "-4.980771\n",
      "-4.996643\n",
      "-4.99954\n",
      "-4.999944\n",
      "-4.9999933\n",
      "-4.9999986\n",
      "-5.0\n",
      "-4.999999\n",
      "-5.0\n"
     ]
    }
   ],
   "source": [
    "optmizer = jaxopt.BFGS(f, maxiter=1)\n",
    "multiplier = 1.0\n",
    "for i in range(10):\n",
    "    print(-f(multiplier))\n",
    "    multiplier, state = optmizer.run(multiplier)"
   ]
  },
  {
   "cell_type": "code",
   "execution_count": 9,
   "id": "3956fc67-958f-4172-a240-b19c012370be",
   "metadata": {},
   "outputs": [
    {
     "data": {
      "text/plain": [
       "Array(2.000012, dtype=float32)"
      ]
     },
     "execution_count": 9,
     "metadata": {},
     "output_type": "execute_result"
    }
   ],
   "source": [
    "3*multiplier/(1+multiplier)"
   ]
  }
 ],
 "metadata": {
  "kernelspec": {
   "display_name": "Python 3 (ipykernel)",
   "language": "python",
   "name": "python3"
  },
  "language_info": {
   "codemirror_mode": {
    "name": "ipython",
    "version": 3
   },
   "file_extension": ".py",
   "mimetype": "text/x-python",
   "name": "python",
   "nbconvert_exporter": "python",
   "pygments_lexer": "ipython3",
   "version": "3.10.6"
  }
 },
 "nbformat": 4,
 "nbformat_minor": 5
}
