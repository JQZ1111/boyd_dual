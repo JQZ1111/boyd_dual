{
 "cells": [
  {
   "cell_type": "code",
   "execution_count": 1,
   "id": "486ff387-de59-4aae-8c18-d869a6b4728c",
   "metadata": {},
   "outputs": [],
   "source": [
    "import jax \n",
    "import jax.numpy as jnp\n",
    "import numpy as np\n",
    "import matplotlib.pyplot as plt\n",
    "import jaxopt"
   ]
  },
  {
   "cell_type": "code",
   "execution_count": 35,
   "id": "fd92ba1d-730e-4046-b22f-c27a07968c14",
   "metadata": {},
   "outputs": [],
   "source": [
    "# Maybe not giving enough constraints? The inequalities are equalities after optimization through the multipliers...\n",
    "# The dual fulfills the constraints, but do not optimize the objective function...\n",
    "def f(params):\n",
    "    Q_0 = jnp.array([[1, 0], [0, 9]])\n",
    "    P_1 = -jnp.array([2, 1])\n",
    "    P_2 = -jnp.array([1, 3])\n",
    "    P_3 = -jnp.array([1, 0])\n",
    "    P_4 = -jnp.array([0, 1])\n",
    "    P = params[0]*P_1 + params[1]*P_2# + params[2]*P_3 + params[3]*P_4\n",
    "    c_1 = 1\n",
    "    c_2 = 1\n",
    "    c = params[0]*c_1 + params[1]*c_2\n",
    "    x = -0.5*jnp.linalg.inv(Q_0)@P\n",
    "    D = x.T@Q_0@x + P@x + c\n",
    "    return -D#, x.T@Q_0@x + P@x, x"
   ]
  },
  {
   "cell_type": "code",
   "execution_count": 42,
   "id": "09bec361-d810-4243-9210-5400a556b6be",
   "metadata": {},
   "outputs": [],
   "source": [
    "og_params = jnp.array([-1., 0.]).astype(\"float32\")"
   ]
  },
  {
   "cell_type": "code",
   "execution_count": 44,
   "id": "95a540e5-efd2-4850-bcbc-624cf0fe6794",
   "metadata": {},
   "outputs": [
    {
     "data": {
      "text/plain": [
       "(Array(-0.51970756, dtype=float32),\n",
       " Array([-0.22003627,  1.2391565 ], dtype=float32))"
      ]
     },
     "execution_count": 44,
     "metadata": {},
     "output_type": "execute_result"
    }
   ],
   "source": [
    "f(params), params"
   ]
  },
  {
   "cell_type": "code",
   "execution_count": 43,
   "id": "1799a741-a34e-4c46-ad70-d0bf3cf50d2e",
   "metadata": {},
   "outputs": [
    {
     "name": "stdout",
     "output_type": "stream",
     "text": [
      "-2.0277777\n",
      "0.25076622\n",
      "0.45818067\n",
      "0.48113534\n",
      "0.49120623\n",
      "0.5029161\n",
      "0.5074427\n",
      "0.5124742\n",
      "0.5145209\n",
      "0.51667607\n",
      "0.5176078\n",
      "0.5185273\n",
      "0.51895475\n",
      "0.51934516\n",
      "0.5195429\n"
     ]
    }
   ],
   "source": [
    "optimizer = jaxopt.GradientDescent(f, maxiter = 1)\n",
    "params = og_params.copy()\n",
    "for i in range(15):\n",
    "    print(-f(params))\n",
    "    params, state = optimizer.run(params)"
   ]
  },
  {
   "cell_type": "code",
   "execution_count": 58,
   "id": "1c23de60-d2e8-4bb4-be5e-7caf25d7364a",
   "metadata": {},
   "outputs": [
    {
     "data": {
      "text/plain": [
       "(Array([4.397905e+09, 4.608470e+08], dtype=float32),\n",
       " Array([2.8377508e+09, 1.7720723e+09, 1.3482360e+09, 1.4127874e+08],      dtype=float32))"
      ]
     },
     "execution_count": 58,
     "metadata": {},
     "output_type": "execute_result"
    }
   ],
   "source": [
    "Q = jnp.array([[1, 0], [0, 9]])\n",
    "P = jnp.array([[2, 1],[1, 3]])\n",
    "ideal_x = jnp.array([0.5, 1/6])\n",
    "Q_0 = jnp.array([[1, 0], [0, 9]])\n",
    "P_1 = -jnp.array([2, 1])\n",
    "P_2 = -jnp.array([1, 3])\n",
    "P_3 = -jnp.array([1, 0])\n",
    "P_4 = -jnp.array([0, 1])\n",
    "P = params[0]*P_1 + params[1]*P_2 + params[2]*P_3 + params[3]*P_4\n",
    "-0.5*jnp.linalg.inv(Q_0)@P, params"
   ]
  },
  {
   "cell_type": "code",
   "execution_count": null,
   "id": "79c95707-e163-4cb2-9357-22f4f4902d14",
   "metadata": {},
   "outputs": [],
   "source": []
  }
 ],
 "metadata": {
  "kernelspec": {
   "display_name": "Python 3 (ipykernel)",
   "language": "python",
   "name": "python3"
  },
  "language_info": {
   "codemirror_mode": {
    "name": "ipython",
    "version": 3
   },
   "file_extension": ".py",
   "mimetype": "text/x-python",
   "name": "python",
   "nbconvert_exporter": "python",
   "pygments_lexer": "ipython3",
   "version": "3.10.6"
  }
 },
 "nbformat": 4,
 "nbformat_minor": 5
}
